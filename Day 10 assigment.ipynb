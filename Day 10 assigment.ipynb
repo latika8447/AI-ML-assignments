{
 "cells": [
  {
   "cell_type": "code",
   "execution_count": 4,
   "metadata": {},
   "outputs": [
    {
     "name": "stdout",
     "output_type": "stream",
     "text": [
      "Original numbers:\n",
      "[7 2]\n",
      "[3 1]\n",
      "greater:\n",
      "[ True  True]\n",
      "greater_equal:\n",
      "[ True  True]\n",
      "less than:\n",
      "[False False]\n",
      "less_equal:\n",
      "[False False]\n"
     ]
    }
   ],
   "source": [
    "#Create an element-wise comparison (greater, greater_equal, less and less_equal) of two given arrays\n",
    "\n",
    "import numpy as np\n",
    "x = np.array([7, 2])\n",
    "y = np.array([3, 1])\n",
    "print(\"Original numbers:\")\n",
    "print(x)\n",
    "print(y)\n",
    "print(\"greater:\")\n",
    "print(np.greater(x, y))\n",
    "print(\"greater_equal:\")\n",
    "print(np.greater_equal(x, y))\n",
    "print(\"less than:\")\n",
    "print(np.less(x, y))\n",
    "print(\"less_equal\n",
    "[False False]\n",
    "less_equal:\n",
    "[:\")\n",
    "print(np.less_equal(x, y))"
   ]
  },
  {
   "cell_type": "code",
   "execution_count": 6,
   "metadata": {},
   "outputs": [
    {
     "name": "stdout",
     "output_type": "stream",
     "text": [
      "array of 10 zeros:\n",
      "[0. 0. 0. 0. 0. 0. 0. 0. 0. 0.]\n",
      "array of 10 ones:\n",
      "[1. 1. 1. 1. 1. 1. 1. 1. 1. 1.]\n",
      "array of 10 fives:\n",
      "[5. 5. 5. 5. 5. 5. 5. 5. 5. 5.]\n"
     ]
    }
   ],
   "source": [
    "# Write a NumPy program to create an array of 10 zeros,10 ones, 10 fives\n",
    "import numpy as np\n",
    "array=np.zeros(10)\n",
    "print(\"array of 10 zeros:\")\n",
    "print(array)\n",
    "array=np.ones(10)\n",
    "print(\"array of 10 ones:\")\n",
    "print(array)\n",
    "array=np.ones(10)*5\n",
    "print(\"array of 10 fives:\")\n",
    "print(array)"
   ]
  },
  {
   "cell_type": "code",
   "execution_count": 8,
   "metadata": {},
   "outputs": [
    {
     "name": "stdout",
     "output_type": "stream",
     "text": [
      "Original array:\n",
      "[[5 4]\n",
      " [2 3]]\n",
      "Sum of all elements:\n",
      "14\n",
      "Sum of each column:\n",
      "[7 7]\n",
      "Sum of each row:\n",
      "[9 5]\n"
     ]
    }
   ],
   "source": [
    "# Write a NumPy program to compute sum of all elements, sum of each column and sum of each row of a\n",
    "#given array\n",
    "\n",
    "import numpy as np\n",
    "x = np.array([[5,4],[2,3]])\n",
    "print(\"Original array:\")\n",
    "print(x)\n",
    "print(\"Sum of all elements:\")\n",
    "print(np.sum(x))\n",
    "print(\"Sum of each column:\")\n",
    "print(np.sum(x, axis=0))\n",
    "print(\"Sum of each row:\")\n",
    "print(np.sum(x, axis=1))\n"
   ]
  },
  {
   "cell_type": "code",
   "execution_count": 10,
   "metadata": {},
   "outputs": [
    {
     "name": "stdout",
     "output_type": "stream",
     "text": [
      "Add:\n",
      "9.0\n",
      "Subtract:\n",
      "-6.0\n",
      "Multiply:\n",
      "392.0\n",
      "Divide:\n",
      "3.3\n"
     ]
    }
   ],
   "source": [
    "#Write a NumPy program to add, subtract, multiply, divide arguments element-wise.\n",
    "import numpy as np\n",
    "print(\"Add:\")\n",
    "print(np.add(5.0, 4.0))\n",
    "print(\"Subtract:\")\n",
    "print(np.subtract(9.0, 15.0))\n",
    "print(\"Multiply:\")\n",
    "print(np.multiply(14.0, 28.0))\n",
    "print(\"Divide:\")\n",
    "print(np.divide(33.0, 10.0))"
   ]
  },
  {
   "cell_type": "code",
   "execution_count": 13,
   "metadata": {},
   "outputs": [
    {
     "name": "stdout",
     "output_type": "stream",
     "text": [
      "sine:angles given in degrees\n",
      "[0.         0.5        0.70710678 0.8660254  1.        ]\n",
      "cosine:angles given in degrees\n",
      "[1.00000000e+00 8.66025404e-01 7.07106781e-01 5.00000000e-01\n",
      " 6.12323400e-17]\n",
      "tangent:angles given in degrees\n",
      "[0.00000000e+00 5.77350269e-01 1.00000000e+00 1.73205081e+00\n",
      " 1.63312394e+16]\n"
     ]
    }
   ],
   "source": [
    "#Write a NumPy program to compute the trigonometric sine, cosine and tangent array of angles given in\n",
    "#degree.\n",
    "import numpy as np\n",
    "print(\"sine:angles given in degrees\")\n",
    "print(np.sin(np.array((0., 30., 45., 60., 90.)) * np.pi / 180.))\n",
    "print(\"cosine:angles given in degrees\")\n",
    "print(np.cos(np.array((0., 30., 45., 60., 90.)) * np.pi / 180.))\n",
    "print(\"tangent:angles given in degrees\")\n",
    "print(np.tan(np.array((0., 30., 45., 60., 90.)) * np.pi / 180.))"
   ]
  },
  {
   "cell_type": "code",
   "execution_count": 17,
   "metadata": {},
   "outputs": [
    {
     "name": "stdout",
     "output_type": "stream",
     "text": [
      "      name  score  attempts qualify\n",
      "a   sameer   60.0         1     yes\n",
      "b  sandeep   90.0         3     yes\n",
      "c   deepti   75.5         2     yes\n",
      "d    pooja   20.0         3      no\n",
      "e    varun   15.0         2      no\n",
      "f  vandana   20.0         3      no\n",
      "g    sunil   30.5         1      no\n",
      "h   shruti   33.0         1     yes\n",
      "i  ashwani   80.0         2     yes\n",
      "j    tejas   55.0         1     yes\n"
     ]
    }
   ],
   "source": [
    "#Write a Pandas program to create and display a DataFrame from a specified dictionary data which has the\n",
    "#index labels\n",
    "import pandas as pd\n",
    "import numpy as np\n",
    "\n",
    "exam_data  = {'name': ['sameer', 'sandeep', 'deepti', 'pooja', 'varun', 'vandana', 'sunil', 'shruti', 'ashwani', 'tejas'],\n",
    "        'score': [60, 90, 75.5, 20, 15, 20, 30.5, 33, 80, 55],\n",
    "        'attempts': [1, 3, 2, 3, 2, 3, 1, 1, 2, 1],\n",
    "        'qualify': ['yes', 'yes', 'yes', 'no', 'no', 'no', 'no', 'yes', 'yes', 'yes']}\n",
    "labels = ['a', 'b', 'c', 'd', 'e', 'f', 'g', 'h', 'i', 'j']\n",
    "\n",
    "df = pd.DataFrame(exam_data , index=labels)\n",
    "print(df)"
   ]
  },
  {
   "cell_type": "code",
   "execution_count": 18,
   "metadata": {},
   "outputs": [
    {
     "name": "stdout",
     "output_type": "stream",
     "text": [
      "      name  score\n",
      "a   sameer   60.0\n",
      "b  sandeep   90.0\n",
      "c   deepti   75.5\n",
      "d    pooja   20.0\n",
      "e    varun   15.0\n",
      "f  vandana   20.0\n",
      "g    sunil   30.5\n",
      "h   shruti   33.0\n",
      "i  ashwani   80.0\n",
      "j    tejas   55.0\n"
     ]
    }
   ],
   "source": [
    "#Write a Pandas program to select the 'name' and 'score' columns from the following DataFrame.\n",
    "import pandas as pd\n",
    "import numpy as np\n",
    "\n",
    "exam_data  = {'name': ['sameer', 'sandeep', 'deepti', 'pooja', 'varun', 'vandana', 'sunil', 'shruti', 'ashwani', 'tejas'],\n",
    "        'score': [60, 90, 75.5, 20, 15, 20, 30.5, 33, 80, 55],\n",
    "        'attempts': [1, 3, 2, 3, 2, 3, 1, 1, 2, 1],\n",
    "        'qualify': ['yes', 'yes', 'yes', 'no', 'no', 'no', 'no', 'yes', 'yes', 'yes']}\n",
    "labels = ['a', 'b', 'c', 'd', 'e', 'f', 'g', 'h', 'i', 'j']\n",
    "df = pd.DataFrame(exam_data , index=labels)\n",
    "print(df[['name', 'score']])\n"
   ]
  },
  {
   "cell_type": "code",
   "execution_count": 21,
   "metadata": {},
   "outputs": [
    {
     "name": "stdout",
     "output_type": "stream",
     "text": [
      "  student_id     name  marks\n",
      "0         S1   shashi    200\n",
      "1         S2    vijay    210\n",
      "2         S3  gulshan    190\n",
      "3         S4    mohit    222\n",
      "4         S5     ekta    199\n",
      "..............................................\n",
      "  student_id      name  marks\n",
      "0         S4     pooja    201\n",
      "1         S5  santwana    200\n",
      "2         S6    mohini    198\n",
      "3         S7     divya    219\n",
      "4         S8    preeti    201\n",
      "..............................................\n",
      "concatination of two dataframes:\n",
      "  student_id      name  marks\n",
      "0         S1    shashi    200\n",
      "1         S2     vijay    210\n",
      "2         S3   gulshan    190\n",
      "3         S4     mohit    222\n",
      "4         S5      ekta    199\n",
      "0         S4     pooja    201\n",
      "1         S5  santwana    200\n",
      "2         S6    mohini    198\n",
      "3         S7     divya    219\n",
      "4         S8    preeti    201\n"
     ]
    }
   ],
   "source": [
    "#Write a Pandas program to join the two given dataframes along rows and assign all data.\n",
    "import pandas as pd\n",
    "\n",
    "student_data1 = pd.DataFrame({\n",
    "        'student_id': ['S1', 'S2', 'S3', 'S4', 'S5'],\n",
    "         'name': ['shashi', 'vijay', 'gulshan', 'mohit', 'ekta'], \n",
    "        'marks': [200, 210, 190, 222, 199]})\n",
    "\n",
    "student_data2 = pd.DataFrame({\n",
    "        'student_id': ['S4', 'S5', 'S6', 'S7', 'S8'],\n",
    "        'name': ['pooja', 'santwana', 'mohini', 'divya', 'preeti'], \n",
    "        'marks': [201, 200, 198, 219, 201]})\n",
    "\n",
    "print(student_data1)\n",
    "print(\"..............................................\")\n",
    "print(student_data2)\n",
    "\n",
    "print(\"..............................................\")\n",
    "print(\"concatination of two dataframes:\")\n",
    "result_data = pd.concat([student_data1, student_data2])\n",
    "print(result_data)"
   ]
  },
  {
   "cell_type": "code",
   "execution_count": 22,
   "metadata": {},
   "outputs": [
    {
     "name": "stdout",
     "output_type": "stream",
     "text": [
      "Original Orders DataFrame:\n",
      "     ord_no  purch_amt    ord_date  customer_id  salesman_id\n",
      "0   70001.0     150.50  2012-10-05         3002       5002.0\n",
      "1       NaN     270.65  2012-09-10         3001       5003.0\n",
      "2   70002.0      65.26         NaN         3001       5001.0\n",
      "3   70004.0     110.50  2012-08-17         3003          NaN\n",
      "4       NaN     948.50  2012-09-10         3002       5002.0\n",
      "5   70005.0    2400.60  2012-07-27         3001       5001.0\n",
      "6       NaN    5760.00  2012-09-10         3001       5001.0\n",
      "7   70010.0    1983.43  2012-10-10         3004          NaN\n",
      "8   70003.0    2480.40  2012-10-10         3003       5003.0\n",
      "9   70012.0     250.45  2012-06-27         3002       5002.0\n",
      "10      NaN      75.29  2012-08-17         3001       5003.0\n",
      "11  70013.0    3045.60  2012-04-25         3001          NaN\n",
      "\n",
      "Missing values of the said dataframe:\n",
      "    ord_no  purch_amt  ord_date  customer_id  salesman_id\n",
      "0    False      False     False        False        False\n",
      "1     True      False     False        False        False\n",
      "2    False      False      True        False        False\n",
      "3    False      False     False        False         True\n",
      "4     True      False     False        False        False\n",
      "5    False      False     False        False        False\n",
      "6     True      False     False        False        False\n",
      "7    False      False     False        False         True\n",
      "8    False      False     False        False        False\n",
      "9    False      False     False        False        False\n",
      "10    True      False     False        False        False\n",
      "11   False      False     False        False         True\n"
     ]
    }
   ],
   "source": [
    "#Write a Pandas program to detect missing values of a given DataFrame. Display True or False.\n",
    "import pandas as pd\n",
    "import numpy as np\n",
    "pd.set_option('display.max_rows', None)\n",
    "df = pd.DataFrame({\n",
    "'ord_no':[70001,np.nan,70002,70004,np.nan,70005,np.nan,70010,70003,70012,np.nan,70013],\n",
    "'purch_amt':[150.5,270.65,65.26,110.5,948.5,2400.6,5760,1983.43,2480.4,250.45, 75.29,3045.6],\n",
    "'ord_date': ['2012-10-05','2012-09-10',np.nan,'2012-08-17','2012-09-10','2012-07-27','2012-09-10','2012-10-10','2012-10-10','2012-06-27','2012-08-17','2012-04-25'],\n",
    "'customer_id':[3002,3001,3001,3003,3002,3001,3001,3004,3003,3002,3001,3001],\n",
    "'salesman_id':[5002,5003,5001,np.nan,5002,5001,5001,np.nan,5003,5002,5003,np.nan]})\n",
    "print(\"Original Orders DataFrame:\")\n",
    "print(df)\n",
    "print(\"\\nMissing values of the said dataframe:\")\n",
    "print(df.isna())"
   ]
  },
  {
   "cell_type": "code",
   "execution_count": 23,
   "metadata": {},
   "outputs": [
    {
     "name": "stdout",
     "output_type": "stream",
     "text": [
      "0    1\n",
      "1    3\n",
      "2    5\n",
      "3    7\n",
      "4    9\n",
      "dtype: int64\n"
     ]
    }
   ],
   "source": [
    "#Write a Pandas program to create and display a one-dimensional array-like object containing an array of\n",
    "#data.\n",
    "import pandas as pd\n",
    "ds = pd.Series([1, 3, 5, 7, 9])\n",
    "print(ds)"
   ]
  },
  {
   "cell_type": "code",
   "execution_count": null,
   "metadata": {},
   "outputs": [],
   "source": []
  }
 ],
 "metadata": {
  "kernelspec": {
   "display_name": "Python 3",
   "language": "python",
   "name": "python3"
  },
  "language_info": {
   "codemirror_mode": {
    "name": "ipython",
    "version": 3
   },
   "file_extension": ".py",
   "mimetype": "text/x-python",
   "name": "python",
   "nbconvert_exporter": "python",
   "pygments_lexer": "ipython3",
   "version": "3.8.3"
  }
 },
 "nbformat": 4,
 "nbformat_minor": 4
}
